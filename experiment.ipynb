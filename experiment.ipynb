{
 "cells": [
  {
   "cell_type": "code",
   "execution_count": 1,
   "metadata": {
    "collapsed": true
   },
   "outputs": [],
   "source": [
    "#!/usr/bin/env python3\n",
    "# -*- coding: utf-8 -*-\n",
    "\"\"\"\n",
    "Created on Thu Dec 21 09:59:40 2017\n",
    "\n",
    "@author: tang\n",
    "\"\"\"\n",
    "import math\n",
    "import matplotlib.pyplot as plt\n",
    "import numpy as np"
   ]
  },
  {
   "cell_type": "markdown",
   "metadata": {},
   "source": [
    "Initialize parameters"
   ]
  },
  {
   "cell_type": "code",
   "execution_count": 20,
   "metadata": {
    "collapsed": true
   },
   "outputs": [],
   "source": [
    "user_num = 943       #用户数\n",
    "item_num = 1682      #项目数\n",
    "max_iteration = 60   #最大迭代次数\n",
    "eta = 0.001          #学习率\n",
    "lbda = 0.01          #惩罚因子\n",
    "k = 6                #潜在特征数"
   ]
  },
  {
   "cell_type": "markdown",
   "metadata": {},
   "source": [
    "Read Data"
   ]
  },
  {
   "cell_type": "code",
   "execution_count": 15,
   "metadata": {
    "collapsed": true
   },
   "outputs": [],
   "source": [
    "def readData(datafile):\n",
    "    R = np.zeros((user_num, item_num))\n",
    "    for line in open(datafile):\n",
    "        userid, itemid, record, _ = line.split('\\t')\n",
    "        (userid, itemid, record) = map(int,(userid, itemid, record))\n",
    "        R[userid - 1][itemid - 1] = float(record)\n",
    "    return R"
   ]
  },
  {
   "cell_type": "markdown",
   "metadata": {},
   "source": [
    "#### Matrix Factorization's L2 loss function:\n",
    "\n",
    "$$E^2_{i,j}=\\left(r_{i,j} - \\sum_{k = 1}^K {p_{i,k}}{q_{k,j}}\\right)^2 + \\frac{\\lambda}{2} \\sum_{k = 1}^K \\left( p^2_{i,k} + q^2_{k,j}\\right)$$\n",
    "#### Update p and q:\n",
    "$$e_{i,j} = r_{i,j} - \\sum_{k = 1}^K {p_{i,k}}{q_{k,j}}$$\n",
    "$$p_{i,k} = p_{i,k} - \\eta\\left(-2e_{i,j}q_{k,j} + \\lambda p_{i,k}\\right)$$\n",
    "$$q_{k,j} = q_{k,j} - \\eta\\left(-2e_{i,j}p_{i,k} + \\lambda q_{k,j}\\right)$$"
   ]
  },
  {
   "cell_type": "code",
   "execution_count": 16,
   "metadata": {
    "collapsed": true
   },
   "outputs": [],
   "source": [
    "def mfrs():    \n",
    "    P = np.random.rand(user_num, k)\n",
    "    Q = np.random.rand(item_num, k)\n",
    "    train_loss = []\n",
    "    val_loss = []\n",
    "    for iter in range(max_iteration):\n",
    "        loss_train = []\n",
    "        loss_val = []\n",
    "        for i in range(user_num):\n",
    "            for j in range(item_num):\n",
    "                if math.fabs(train_data[i][j]) > 1e-4:\n",
    "                    error = train_data[i][j] - np.dot(P[i], Q[j])\n",
    "                    #print(error)\n",
    "                    reg_train = 0\n",
    "                    for tk in range(k):\n",
    "                        reg_train += P[i][tk] ** 2 + Q[j][tk] ** 2 \n",
    "                    loss_train.append(error ** 2 + lbda / 2 * reg_train)\n",
    "                    \n",
    "                    # compute gradient\n",
    "                    for t in range(k):\n",
    "                        p_grad = -2 * error * Q[j][t] + lbda * P[i][t]\n",
    "                        q_grad = -2 * error * P[i][t] + lbda * Q[j][t]\n",
    "                        P[i][t] -= eta * p_grad\n",
    "                        Q[j][t] -= eta * q_grad\n",
    "                        \n",
    "                if math.fabs(val_data[i][j]) > 1e-4:\n",
    "                    error_val_data = val_data[i][j] - np.dot(P[i], Q[j])\n",
    "                    reg_val = 0\n",
    "                    for tk in range(k):\n",
    "                        reg_val += P[i][tk] ** 2 + Q[j][tk] ** 2 \n",
    "                    loss_val.append(error_val_data ** 2 + lbda / 2 * reg_val)\n",
    "                    \n",
    "        train_loss.append(np.mean(loss_train))\n",
    "        val_loss.append(np.mean(loss_val))\n",
    "    return train_loss, val_loss"
   ]
  },
  {
   "cell_type": "markdown",
   "metadata": {},
   "source": [
    "Load and read dataset"
   ]
  },
  {
   "cell_type": "code",
   "execution_count": 17,
   "metadata": {
    "collapsed": true
   },
   "outputs": [],
   "source": [
    "train_data_path = './u1.base'\n",
    "train_data = readData(train_data_path)\n",
    "val_data_path = './u1.test'\n",
    "val_data = readData(val_data_path)"
   ]
  },
  {
   "cell_type": "markdown",
   "metadata": {},
   "source": [
    "Compute loss"
   ]
  },
  {
   "cell_type": "code",
   "execution_count": 21,
   "metadata": {},
   "outputs": [
    {
     "name": "stdout",
     "output_type": "stream",
     "text": [
      "0.965673056185\n",
      "1.09114890131\n"
     ]
    }
   ],
   "source": [
    "trainloss, valloss = mfrs()\n",
    "print(trainloss[len(trainloss)-1])\n",
    "print(valloss[len(valloss)-1])"
   ]
  },
  {
   "cell_type": "code",
   "execution_count": 19,
   "metadata": {},
   "outputs": [
    {
     "data": {
      "image/png": "[encoded data removed]",
      "text/plain": [
       "<matplotlib.figure.Figure at 0x117145438>"
      ]
     },
     "metadata": {},
     "output_type": "display_data"
    }
   ],
   "source": [
    "fig, ax = plt.subplots()\n",
    "ax.plot(trainloss, label='train', linewidth=2.0)\n",
    "ax.plot(valloss, label='validation', linewidth=2.0)\n",
    "ax.set(xlabel='Iteration', ylabel='Loss')\n",
    "ax.grid()\n",
    "handles, labels = ax.get_legend_handles_labels()\n",
    "ax.legend(handles, labels)\n",
    "plt.show()"
   ]
  }
 ],
 "metadata": {
  "kernelspec": {
   "display_name": "Python 3",
   "language": "python",
   "name": "python3"
  },
  "language_info": {
   "codemirror_mode": {
    "name": "ipython",
    "version": 3
   },
   "file_extension": ".py",
   "mimetype": "text/x-python",
   "name": "python",
   "nbconvert_exporter": "python",
   "pygments_lexer": "ipython3",
   "version": "3.6.3"
  }
 },
 "nbformat": 4,
 "nbformat_minor": 2
}
